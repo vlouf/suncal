{
 "cells": [
  {
   "cell_type": "code",
   "execution_count": 7,
   "metadata": {
    "ExecuteTime": {
     "end_time": "2020-03-18T00:41:48.081168Z",
     "start_time": "2020-03-18T00:41:48.051444Z"
    }
   },
   "outputs": [],
   "source": [
    "import os\n",
    "import glob\n",
    "import zipfile\n",
    "\n",
    "import pyart\n",
    "import dask.bag as db\n",
    "from dask.diagnostics import ProgressBar"
   ]
  },
  {
   "cell_type": "code",
   "execution_count": 2,
   "metadata": {
    "ExecuteTime": {
     "end_time": "2020-03-18T00:40:56.546937Z",
     "start_time": "2020-03-18T00:40:56.541314Z"
    }
   },
   "outputs": [],
   "source": [
    "def extract_zip(inzip, path):\n",
    "    '''\n",
    "    Extract content of a zipfile inside a given directory.\n",
    "\n",
    "    Parameters:\n",
    "    ===========\n",
    "    inzip: str\n",
    "        Input zip file.\n",
    "    path: str\n",
    "        Output path.\n",
    "\n",
    "    Returns:\n",
    "    ========\n",
    "    namelist: List\n",
    "        List of files extracted from  the zip.\n",
    "    '''\n",
    "    with zipfile.ZipFile(inzip) as zid:\n",
    "        zid.extractall(path=path)\n",
    "        namelist = [os.path.join(path, f) for f in zid.namelist()]\n",
    "    return namelist\n",
    "\n",
    "\n",
    "def mkdir(path):\n",
    "    '''\n",
    "    Create the DIRECTORY(ies), if they do not already exist\n",
    "    '''\n",
    "    try:\n",
    "        os.mkdir(path)\n",
    "    except FileExistsError:\n",
    "        pass\n",
    "\n",
    "    return None\n",
    "\n",
    "\n",
    "def remove(flist):\n",
    "    '''\n",
    "    Remove file if it exists.\n",
    "    '''\n",
    "    flist = [f for f in flist if f is not None]\n",
    "    for f in flist:\n",
    "        try:\n",
    "            os.remove(f)\n",
    "        except FileNotFoundError:\n",
    "            pass\n",
    "    return None"
   ]
  },
  {
   "cell_type": "code",
   "execution_count": 14,
   "metadata": {
    "ExecuteTime": {
     "end_time": "2020-03-18T00:45:30.941778Z",
     "start_time": "2020-03-18T00:45:30.935779Z"
    }
   },
   "outputs": [],
   "source": [
    "def check_total_power(infile):\n",
    "    try:\n",
    "        radar = pyart.aux_io.read_odim_h5(infile)\n",
    "    except Exception:\n",
    "        return False\n",
    "    \n",
    "    try:\n",
    "        radar.fields['total_power']\n",
    "    except KeyError:\n",
    "        del radar\n",
    "        return False\n",
    "    \n",
    "    del radar\n",
    "    return True"
   ]
  },
  {
   "cell_type": "code",
   "execution_count": 4,
   "metadata": {
    "ExecuteTime": {
     "end_time": "2020-03-18T00:40:56.560137Z",
     "start_time": "2020-03-18T00:40:56.556783Z"
    }
   },
   "outputs": [],
   "source": [
    "def check_file(infile):\n",
    "    rslts = None\n",
    "    zipdir = '/scratch/kl02/vhl548/unzipdir/'\n",
    "    namelist = extract_zip(infile, zipdir)\n",
    "    if check_total_power(namelist[0]):\n",
    "        rslts = infile\n",
    "    remove(namelist)\n",
    "\n",
    "    return rslts"
   ]
  },
  {
   "cell_type": "code",
   "execution_count": 15,
   "metadata": {
    "ExecuteTime": {
     "end_time": "2020-03-18T00:46:03.327529Z",
     "start_time": "2020-03-18T00:45:36.306298Z"
    }
   },
   "outputs": [
    {
     "name": "stdout",
     "output_type": "stream",
     "text": [
      "[########################################] | 100% Completed | 11.5s\n",
      "[########################################] | 100% Completed | 15.1s\n"
     ]
    }
   ],
   "source": [
    "for year in range(2018, 2021):\n",
    "    if year == 2019:\n",
    "        continue\n",
    "        \n",
    "    flist = sorted(glob.glob(f'/g/data/rq0/odim_archive/odim_pvol/**/{year}/vol/*0101.pvol.zip'))\n",
    "\n",
    "    bag = db.from_sequence(flist).map(check_file)\n",
    "    with ProgressBar():\n",
    "        rslt = bag.compute()\n",
    "\n",
    "    rslt = [r for r in rslt if r is not None]\n",
    "\n",
    "    with open('total_power_radars.txt', 'a+') as fid:\n",
    "        fid.write(\"\\n\".join(rslt))"
   ]
  },
  {
   "cell_type": "code",
   "execution_count": null,
   "metadata": {},
   "outputs": [],
   "source": []
  }
 ],
 "metadata": {
  "kernelspec": {
   "display_name": "Python 3",
   "language": "python",
   "name": "python3"
  },
  "language_info": {
   "codemirror_mode": {
    "name": "ipython",
    "version": 3
   },
   "file_extension": ".py",
   "mimetype": "text/x-python",
   "name": "python",
   "nbconvert_exporter": "python",
   "pygments_lexer": "ipython3",
   "version": "3.8.1"
  },
  "varInspector": {
   "cols": {
    "lenName": 16,
    "lenType": 16,
    "lenVar": 40
   },
   "kernels_config": {
    "python": {
     "delete_cmd_postfix": "",
     "delete_cmd_prefix": "del ",
     "library": "var_list.py",
     "varRefreshCmd": "print(var_dic_list())"
    },
    "r": {
     "delete_cmd_postfix": ") ",
     "delete_cmd_prefix": "rm(",
     "library": "var_list.r",
     "varRefreshCmd": "cat(var_dic_list()) "
    }
   },
   "types_to_exclude": [
    "module",
    "function",
    "builtin_function_or_method",
    "instance",
    "_Feature"
   ],
   "window_display": false
  }
 },
 "nbformat": 4,
 "nbformat_minor": 4
}
