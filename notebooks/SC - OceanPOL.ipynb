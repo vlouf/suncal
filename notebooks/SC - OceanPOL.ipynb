{
 "cells": [
  {
   "cell_type": "code",
   "execution_count": 1,
   "metadata": {
    "ExecuteTime": {
     "end_time": "2020-06-11T00:32:45.976969Z",
     "start_time": "2020-06-11T00:32:31.736308Z"
    }
   },
   "outputs": [],
   "source": [
    "import gc\n",
    "import os\n",
    "import sys\n",
    "import glob\n",
    "import time\n",
    "import zipfile\n",
    "import argparse\n",
    "import datetime\n",
    "import warnings\n",
    "import traceback\n",
    "\n",
    "import numpy as np\n",
    "import pandas as pd\n",
    "import dask\n",
    "import tqdm\n",
    "import dask.bag as db\n",
    "from dask.diagnostics import ProgressBar\n",
    "import pyart\n",
    "\n",
    "import pandas as pd\n",
    "import matplotlib.pyplot as pl\n",
    "from matplotlib.colors import LogNorm\n",
    "\n",
    "import seaborn as sns\n",
    "from scipy.stats import mode"
   ]
  },
  {
   "cell_type": "code",
   "execution_count": 2,
   "metadata": {
    "ExecuteTime": {
     "end_time": "2020-06-11T00:32:45.991126Z",
     "start_time": "2020-06-11T00:32:45.987269Z"
    }
   },
   "outputs": [],
   "source": [
    "warnings.simplefilter('ignore')\n",
    "sns.set()\n",
    "sns.set_style('white')"
   ]
  },
  {
   "cell_type": "code",
   "execution_count": 3,
   "metadata": {
    "ExecuteTime": {
     "end_time": "2020-06-11T00:32:46.075519Z",
     "start_time": "2020-06-11T00:32:46.001193Z"
    }
   },
   "outputs": [],
   "source": [
    "import suncal\n",
    "from suncal import SunNotFoundError"
   ]
  },
  {
   "cell_type": "code",
   "execution_count": 4,
   "metadata": {
    "ExecuteTime": {
     "end_time": "2020-06-11T00:32:46.177274Z",
     "start_time": "2020-06-11T00:32:46.091358Z"
    }
   },
   "outputs": [],
   "source": [
    "flist = sorted(glob.glob('/g/data/hj10/admin/opol/level_1/in2020_hobart/**/*.*'))"
   ]
  },
  {
   "cell_type": "code",
   "execution_count": 5,
   "metadata": {
    "ExecuteTime": {
     "end_time": "2020-06-11T00:33:01.279508Z",
     "start_time": "2020-06-11T00:33:01.269970Z"
    }
   },
   "outputs": [],
   "source": [
    "def savedata(rslt_list, path='/scratch/kl02/vhl548/solar_output/opol'):\n",
    "    '''\n",
    "    Save the output data into a CSV file compatible with pandas.\n",
    "\n",
    "    Parameters:\n",
    "    ===========\n",
    "    rslt_list: list\n",
    "        List of solar calibration results for the given date.\n",
    "    path: str\n",
    "        Output directory.\n",
    "    '''\n",
    "    RID = 'OPOL'\n",
    "    df = pd.concat(rslt_list).reset_index()\n",
    "    dtime = df.time[0].strftime('%Y%m%d')\n",
    "    year = df.time[0].strftime('%Y')\n",
    "\n",
    "    path = os.path.join(path, RID)\n",
    "    mkdir(path)\n",
    "    path = os.path.join(path, year)\n",
    "    mkdir(path)\n",
    "\n",
    "    outfilename = os.path.join(path, f'suncal.{RID}.{dtime}.csv')\n",
    "    df.to_csv(outfilename)\n",
    "#     print(crayons.green(f'{len(df)} solar hits on {dtime}.'))\n",
    "#     print(crayons.green(f'Results saved in {outfilename}.'))\n",
    "\n",
    "    return None"
   ]
  },
  {
   "cell_type": "code",
   "execution_count": 6,
   "metadata": {
    "ExecuteTime": {
     "end_time": "2020-06-11T00:33:02.000801Z",
     "start_time": "2020-06-11T00:33:01.995940Z"
    }
   },
   "outputs": [],
   "source": [
    "def buffer(infile):\n",
    "    '''\n",
    "    Buffer function to catch and kill errors about missing Sun hit.\n",
    "\n",
    "    Parameters:\n",
    "    ===========\n",
    "    infile: str\n",
    "        Input radar file.\n",
    "\n",
    "    Returns:\n",
    "    ========\n",
    "    rslt: pd.DataFrame\n",
    "        Pandas dataframe with the results from the solar calibration code.\n",
    "    '''\n",
    "    try:\n",
    "        rslt = suncal.sunpos_reflectivity(infile)\n",
    "    except SunNotFoundError:\n",
    "        return None\n",
    "\n",
    "    return rslt"
   ]
  },
  {
   "cell_type": "code",
   "execution_count": 7,
   "metadata": {
    "ExecuteTime": {
     "end_time": "2020-06-11T00:33:02.702078Z",
     "start_time": "2020-06-11T00:33:02.697559Z"
    }
   },
   "outputs": [],
   "source": [
    "def mkdir(path):\n",
    "    '''\n",
    "    Create the DIRECTORY(ies), if they do not already exist\n",
    "    '''\n",
    "    try:\n",
    "        os.mkdir(path)\n",
    "    except FileExistsError:\n",
    "        pass\n",
    "\n",
    "    return None"
   ]
  },
  {
   "cell_type": "code",
   "execution_count": 8,
   "metadata": {
    "ExecuteTime": {
     "end_time": "2020-06-11T00:33:03.044841Z",
     "start_time": "2020-06-11T00:33:03.039637Z"
    }
   },
   "outputs": [],
   "source": [
    "def chunks(l, n):\n",
    "    \"\"\"\n",
    "    Yield successive n-sized chunks from l.\n",
    "    From http://stackoverflow.com/a/312464\n",
    "    \"\"\"\n",
    "    for i in range(0, len(l), n):\n",
    "        yield l[i:i + n]"
   ]
  },
  {
   "cell_type": "code",
   "execution_count": 9,
   "metadata": {
    "ExecuteTime": {
     "end_time": "2020-06-11T00:39:32.555483Z",
     "start_time": "2020-06-11T00:33:05.056352Z"
    },
    "scrolled": true
   },
   "outputs": [
    {
     "name": "stdout",
     "output_type": "stream",
     "text": [
      "[########################################] | 100% Completed |  6min 26.9s\n",
      "Theres 293 files\n"
     ]
    }
   ],
   "source": [
    "# for fchunk in tqdm.tqdm_notebook(chunks(flist, 128), total=len(flist) // 128):\n",
    "bag = db.from_sequence(flist).map(buffer)\n",
    "with ProgressBar():\n",
    "    rslt = bag.compute()\n",
    "\n",
    "rslt = [r for r in rslt if r is not None]\n",
    "print(f'There is {len(rslt)} file(s)')\n",
    "# if len(rslt) == 0:\n",
    "#     continue\n",
    "# savedata(rslt)"
   ]
  },
  {
   "cell_type": "markdown",
   "metadata": {},
   "source": [
    "# Stats on solar cal."
   ]
  },
  {
   "cell_type": "code",
   "execution_count": 10,
   "metadata": {
    "ExecuteTime": {
     "end_time": "2020-06-11T00:39:34.474117Z",
     "start_time": "2020-06-11T00:39:34.416074Z"
    }
   },
   "outputs": [],
   "source": [
    "df = pd.concat(rslt, ignore_index=True)"
   ]
  },
  {
   "cell_type": "code",
   "execution_count": 11,
   "metadata": {
    "ExecuteTime": {
     "end_time": "2020-06-11T00:39:36.977471Z",
     "start_time": "2020-06-11T00:39:36.324869Z"
    }
   },
   "outputs": [
    {
     "data": {
      "image/png": "[encoded data removed]",
      "text/plain": [
       "<Figure size 432x288 with 1 Axes>"
      ]
     },
     "metadata": {},
     "output_type": "display_data"
    }
   ],
   "source": [
    "_, _, _, im = pl.hist2d((df.radar_azimuth - df.sun_azimuth), (df.radar_elevation - df.sun_elevation),  range=[[-4, 4], [-4, 4]], bins=64)\n",
    "pl.axvline(0, color='w', linestyle='dashed')\n",
    "pl.axhline(0, color='w', linestyle='dashed')\n",
    "pl.ylabel(r'Elevation $\\Delta \\theta = \\theta_{radar} - \\theta_{sun}$')\n",
    "pl.xlabel(r'Azimuth $\\Delta \\phi = \\phi_{radar} - \\phi_{sun}$')\n",
    "pl.show()"
   ]
  },
  {
   "cell_type": "code",
   "execution_count": null,
   "metadata": {},
   "outputs": [],
   "source": []
  },
  {
   "cell_type": "code",
   "execution_count": 12,
   "metadata": {
    "ExecuteTime": {
     "end_time": "2020-06-11T01:01:11.713297Z",
     "start_time": "2020-06-11T01:01:11.707011Z"
    }
   },
   "outputs": [],
   "source": [
    "def get_mode(dset):\n",
    "    azval, azcnt = mode(dset['radar_azimuth'] - dset['sun_azimuth'])\n",
    "    elval, elcnt = mode(dset['radar_elevation'] - dset['sun_elevation'])\n",
    "    \n",
    "    return azval[0], elval[0], azcnt[0], elcnt[0]"
   ]
  },
  {
   "cell_type": "code",
   "execution_count": 13,
   "metadata": {
    "ExecuteTime": {
     "end_time": "2020-06-11T01:01:13.638422Z",
     "start_time": "2020-06-11T01:01:13.634445Z"
    }
   },
   "outputs": [],
   "source": [
    "def get_angleoffset(df, nbins=128):\n",
    "    xe = np.linspace(-4, 4, nbins)\n",
    "    hist_angles, _, _ = np.histogram2d(df['radar_azimuth'] - df['sun_azimuth'], \n",
    "                  df['radar_elevation'] - df['sun_elevation'], \n",
    "                  range=[[-4, 4], [-4, 4]],\n",
    "                  bins=nbins)\n",
    "\n",
    "    a, b = np.where(hist_angles == hist_angles.max())\n",
    "    azimax = xe[a[0]] \n",
    "    elevmax = xe[b[0]]\n",
    "    return azimax, elevmax "
   ]
  },
  {
   "cell_type": "code",
   "execution_count": 14,
   "metadata": {
    "ExecuteTime": {
     "end_time": "2020-06-11T01:01:15.520951Z",
     "start_time": "2020-06-11T01:01:15.512052Z"
    }
   },
   "outputs": [],
   "source": [
    "azi_offset, elev_offset, azi_count, elev_count = zip(*[get_mode(df)])\n",
    "azi, elev = zip(*[get_angleoffset(df)])\n",
    "\n",
    "azi_count = np.array(azi_count)\n",
    "azi  = np.array(azi)\n",
    "elev = np.array(elev)"
   ]
  },
  {
   "cell_type": "code",
   "execution_count": 15,
   "metadata": {
    "ExecuteTime": {
     "end_time": "2020-06-11T01:01:17.753250Z",
     "start_time": "2020-06-11T01:01:17.383623Z"
    }
   },
   "outputs": [
    {
     "data": {
      "text/plain": [
       "Text(0.5, 0, 'Azimuth $\\\\Delta \\\\phi = \\\\phi_{radar} - \\\\phi_{sun}$')"
      ]
     },
     "execution_count": 15,
     "metadata": {},
     "output_type": "execute_result"
    },
    {
     "data": {
      "image/png": "[encoded data removed]",
      "text/plain": [
       "<Figure size 432x288 with 2 Axes>"
      ]
     },
     "metadata": {},
     "output_type": "display_data"
    }
   ],
   "source": [
    "pl.hist2d(azi, elev, range=[[-4, 4], [-4, 4]], bins=64)\n",
    "pl.title(f'Daily mode {len(flist)} days')\n",
    "pl.plot(azi[azi_count > 100].mean(), elev[azi_count > 100].mean(), 'w+', label='Monthly mean', markersize=24)\n",
    "pl.axvline(0, color='w', linestyle='dashed')\n",
    "pl.axhline(0, color='w', linestyle='dashed')\n",
    "# pl.legend(loc=2)\n",
    "pl.colorbar(label='Days')\n",
    "pl.ylabel(r'Elevation $\\Delta \\theta = \\theta_{radar} - \\theta_{sun}$')\n",
    "pl.xlabel(r'Azimuth $\\Delta \\phi = \\phi_{radar} - \\phi_{sun}$')\n",
    "# pl.savefig('solar_2018_oceanpol.png', dpi=100)"
   ]
  },
  {
   "cell_type": "code",
   "execution_count": null,
   "metadata": {},
   "outputs": [],
   "source": []
  }
 ],
 "metadata": {
  "kernelspec": {
   "display_name": "Python 3",
   "language": "python",
   "name": "python3"
  },
  "language_info": {
   "codemirror_mode": {
    "name": "ipython",
    "version": 3
   },
   "file_extension": ".py",
   "mimetype": "text/x-python",
   "name": "python",
   "nbconvert_exporter": "python",
   "pygments_lexer": "ipython3",
   "version": "3.8.3"
  },
  "varInspector": {
   "cols": {
    "lenName": 16,
    "lenType": 16,
    "lenVar": 40
   },
   "kernels_config": {
    "python": {
     "delete_cmd_postfix": "",
     "delete_cmd_prefix": "del ",
     "library": "var_list.py",
     "varRefreshCmd": "print(var_dic_list())"
    },
    "r": {
     "delete_cmd_postfix": ") ",
     "delete_cmd_prefix": "rm(",
     "library": "var_list.r",
     "varRefreshCmd": "cat(var_dic_list()) "
    }
   },
   "types_to_exclude": [
    "module",
    "function",
    "builtin_function_or_method",
    "instance",
    "_Feature"
   ],
   "window_display": false
  }
 },
 "nbformat": 4,
 "nbformat_minor": 4
}
