{
 "cells": [
  {
   "cell_type": "code",
   "execution_count": 1,
   "metadata": {
    "ExecuteTime": {
     "end_time": "2020-03-18T01:53:35.826549Z",
     "start_time": "2020-03-18T01:53:35.820475Z"
    }
   },
   "outputs": [],
   "source": [
    "def get_text(rid, year):\n",
    "    txt = f'''#!/bin/bash\n",
    "#PBS -P kl02\n",
    "#PBS -q normal\n",
    "#PBS -l walltime=3:00:00\n",
    "#PBS -l mem=128GB\n",
    "#PBS -l wd\n",
    "#PBS -l jobfs=1GB\n",
    "#PBS -l ncpus=16\n",
    "#PBS -lstorage=scratch/kl02+gdata/rq0\n",
    "\n",
    "source activate radar\n",
    "\n",
    "python national_archive.py -r {rid} -s {year}0101 -e {year}0131\n",
    "python national_archive.py -r {rid} -s {year}0201 -e {year}0228\n",
    "python national_archive.py -r {rid} -s {year}0301 -e {year}0331\n",
    "python national_archive.py -r {rid} -s {year}0401 -e {year}0430\n",
    "python national_archive.py -r {rid} -s {year}0501 -e {year}0531\n",
    "python national_archive.py -r {rid} -s {year}0601 -e {year}0630\n",
    "python national_archive.py -r {rid} -s {year}0701 -e {year}0731\n",
    "python national_archive.py -r {rid} -s {year}0801 -e {year}0831\n",
    "python national_archive.py -r {rid} -s {year}0901 -e {year}0930\n",
    "python national_archive.py -r {rid} -s {year}1001 -e {year}1031\n",
    "python national_archive.py -r {rid} -s {year}1101 -e {year}1130\n",
    "python national_archive.py -r {rid} -s {year}1201 -e {year}1231\n",
    "\n",
    "'''\n",
    "    return txt"
   ]
  },
  {
   "cell_type": "code",
   "execution_count": 2,
   "metadata": {
    "ExecuteTime": {
     "end_time": "2020-03-18T01:53:36.467578Z",
     "start_time": "2020-03-18T01:53:36.463756Z"
    }
   },
   "outputs": [],
   "source": [
    "with open('./rid_year.txt', 'r') as fid:\n",
    "    content = fid.read().splitlines()"
   ]
  },
  {
   "cell_type": "code",
   "execution_count": 3,
   "metadata": {
    "ExecuteTime": {
     "end_time": "2020-03-18T01:53:37.160922Z",
     "start_time": "2020-03-18T01:53:37.158014Z"
    }
   },
   "outputs": [],
   "source": [
    "import numpy as np"
   ]
  },
  {
   "cell_type": "code",
   "execution_count": 4,
   "metadata": {
    "ExecuteTime": {
     "end_time": "2020-03-18T01:53:38.679863Z",
     "start_time": "2020-03-18T01:53:38.672572Z"
    }
   },
   "outputs": [],
   "source": [
    "data = np.genfromtxt('./rid_year.txt', dtype=int)"
   ]
  },
  {
   "cell_type": "code",
   "execution_count": 6,
   "metadata": {
    "ExecuteTime": {
     "end_time": "2020-03-18T01:54:13.786799Z",
     "start_time": "2020-03-18T01:54:13.694951Z"
    }
   },
   "outputs": [
    {
     "name": "stdout",
     "output_type": "stream",
     "text": [
      "\n",
      "\n",
      "\n",
      "\n",
      "\n",
      "\n",
      "\n",
      "\n",
      "\n",
      "\n",
      "\n",
      "\n",
      "\n",
      "\n",
      "\n",
      "\n",
      "\n",
      "\n",
      "\n",
      "\n",
      "\n",
      "\n",
      "\n",
      "\n",
      "\n",
      "\n",
      "\n",
      "\n",
      "\n",
      "\n",
      "\n",
      "\n",
      "\n",
      "\n",
      "\n",
      "\n",
      "\n",
      "\n",
      "\n",
      "\n",
      "\n",
      "\n",
      "\n",
      "\n",
      "\n",
      "\n",
      "\n",
      "\n",
      "\n",
      "\n",
      "\n",
      "\n",
      "\n",
      "\n",
      "\n",
      "\n",
      "\n",
      "\n"
     ]
    }
   ],
   "source": [
    "for rid, year in data:\n",
    "    print()\n",
    "    txt = get_text(rid, year)\n",
    "    with open(f'projects/CALIBRATION_codes/suncal/scripts/qsun.{rid:02}.{year}.pbs', 'w+') as fid:\n",
    "        fid.write(txt)"
   ]
  },
  {
   "cell_type": "code",
   "execution_count": null,
   "metadata": {},
   "outputs": [],
   "source": []
  }
 ],
 "metadata": {
  "kernelspec": {
   "display_name": "Python 3",
   "language": "python",
   "name": "python3"
  },
  "language_info": {
   "codemirror_mode": {
    "name": "ipython",
    "version": 3
   },
   "file_extension": ".py",
   "mimetype": "text/x-python",
   "name": "python",
   "nbconvert_exporter": "python",
   "pygments_lexer": "ipython3",
   "version": "3.8.1"
  },
  "varInspector": {
   "cols": {
    "lenName": 16,
    "lenType": 16,
    "lenVar": 40
   },
   "kernels_config": {
    "python": {
     "delete_cmd_postfix": "",
     "delete_cmd_prefix": "del ",
     "library": "var_list.py",
     "varRefreshCmd": "print(var_dic_list())"
    },
    "r": {
     "delete_cmd_postfix": ") ",
     "delete_cmd_prefix": "rm(",
     "library": "var_list.r",
     "varRefreshCmd": "cat(var_dic_list()) "
    }
   },
   "types_to_exclude": [
    "module",
    "function",
    "builtin_function_or_method",
    "instance",
    "_Feature"
   ],
   "window_display": false
  }
 },
 "nbformat": 4,
 "nbformat_minor": 4
}
