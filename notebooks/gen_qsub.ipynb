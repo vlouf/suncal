{
 "cells": [
  {
   "cell_type": "code",
   "execution_count": 2,
   "metadata": {
    "ExecuteTime": {
     "end_time": "2020-07-24T02:21:56.488277Z",
     "start_time": "2020-07-24T02:21:56.485291Z"
    }
   },
   "outputs": [],
   "source": [
    "import numpy as np"
   ]
  },
  {
   "cell_type": "code",
   "execution_count": 3,
   "metadata": {
    "ExecuteTime": {
     "end_time": "2020-07-24T02:21:56.683199Z",
     "start_time": "2020-07-24T02:21:56.679328Z"
    }
   },
   "outputs": [],
   "source": [
    "def get_text(rid, year):\n",
    "    txt = f'''#!/bin/bash\n",
    "#PBS -P kl02\n",
    "#PBS -q normal\n",
    "#PBS -l walltime=0:30:00\n",
    "#PBS -l mem=128GB\n",
    "#PBS -l wd\n",
    "#PBS -l jobfs=1GB\n",
    "#PBS -l ncpus=16\n",
    "#PBS -lstorage=scratch/kl02+gdata/rq0\n",
    "\n",
    "source activate radar\n",
    "\n",
    "python national_archive.py -r {rid} -s {year}0701 -e {year}1231\n",
    "'''\n",
    "    return txt"
   ]
  },
  {
   "cell_type": "code",
   "execution_count": 4,
   "metadata": {
    "ExecuteTime": {
     "end_time": "2020-07-24T02:21:59.454023Z",
     "start_time": "2020-07-24T02:21:59.446662Z"
    }
   },
   "outputs": [],
   "source": [
    "data = np.genfromtxt('./data/rid_year.txt', dtype=int)"
   ]
  },
  {
   "cell_type": "code",
   "execution_count": 6,
   "metadata": {
    "ExecuteTime": {
     "end_time": "2020-07-24T02:22:22.503921Z",
     "start_time": "2020-07-24T02:22:22.448493Z"
    }
   },
   "outputs": [],
   "source": [
    "for rid, year in data:    \n",
    "    if year != 2020:\n",
    "        continue\n",
    "    txt = get_text(rid, year)\n",
    "    with open(f'../scripts/qsun.{rid:02}.{year}.pbs', 'w+') as fid:\n",
    "        fid.write(txt)"
   ]
  },
  {
   "cell_type": "code",
   "execution_count": null,
   "metadata": {},
   "outputs": [],
   "source": []
  }
 ],
 "metadata": {
  "kernelspec": {
   "display_name": "Python 3",
   "language": "python",
   "name": "python3"
  },
  "language_info": {
   "codemirror_mode": {
    "name": "ipython",
    "version": 3
   },
   "file_extension": ".py",
   "mimetype": "text/x-python",
   "name": "python",
   "nbconvert_exporter": "python",
   "pygments_lexer": "ipython3",
   "version": "3.8.3"
  },
  "varInspector": {
   "cols": {
    "lenName": 16,
    "lenType": 16,
    "lenVar": 40
   },
   "kernels_config": {
    "python": {
     "delete_cmd_postfix": "",
     "delete_cmd_prefix": "del ",
     "library": "var_list.py",
     "varRefreshCmd": "print(var_dic_list())"
    },
    "r": {
     "delete_cmd_postfix": ") ",
     "delete_cmd_prefix": "rm(",
     "library": "var_list.r",
     "varRefreshCmd": "cat(var_dic_list()) "
    }
   },
   "types_to_exclude": [
    "module",
    "function",
    "builtin_function_or_method",
    "instance",
    "_Feature"
   ],
   "window_display": false
  }
 },
 "nbformat": 4,
 "nbformat_minor": 4
}
